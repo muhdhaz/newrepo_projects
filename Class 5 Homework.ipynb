{
 "cells": [
  {
   "cell_type": "code",
   "execution_count": 1,
   "id": "1a63774d",
   "metadata": {},
   "outputs": [],
   "source": [
    "#My favorite romance movies\n",
    "#title, release year, runtime, tagline, main characters\n",
    "romantic_movie1 = (\"The Princess Bride\", 1987, 98, \"The story of a man and a woman who lived happily ever after.\", [\"Buttercup\", \"Westley\", \"Fezzik\", \"Inigo Montoya\", \"Vizzini\"])\n",
    "romantic_movie2 = (\"Groundhog Day\", 1993, 101, \"He's having the day of his life… over and over again.\", [\"Phil Connors\"])\n",
    "romantic_movie3 = (\"Amélie\", 2001, 122, \"One person can change your life forever.\", [\"Amélie Poulain\", \"Nino Quincampoix\", \"The Garden Gnome\"])"
   ]
  },
  {
   "cell_type": "code",
   "execution_count": 26,
   "id": "e90e8ecf",
   "metadata": {},
   "outputs": [
    {
     "name": "stdout",
     "output_type": "stream",
     "text": [
      "Here are my favorite romance movies:\n",
      "The Princess Bride ( 1987 ): The story of a man and a woman who lived happily ever after.\n",
      "Groundhog Day ( 1993 ): He's having the day of his life… over and over again.\n",
      "Amélie ( 2001 ): One person can change your life forever.\n"
     ]
    }
   ],
   "source": [
    "print(\"Here are my favorite romance movies:\")\n",
    "print(romantic_movie1[0],\"(\",romantic_movie1[1],\")\"\":\", romantic_movie1[3])\n",
    "print(romantic_movie2[0],\"(\", romantic_movie2[1],\")\"\":\", romantic_movie2[3])\n",
    "print(romantic_movie3[0],\"(\",romantic_movie3[1],\")\"\":\", romantic_movie3[3])"
   ]
  },
  {
   "cell_type": "code",
   "execution_count": 11,
   "id": "e093f3db",
   "metadata": {},
   "outputs": [],
   "source": [
    "employees = [{\"name\": \"Ron Swanson\",\"age\": 55,\"department\": \"Management\",\"phone\": \"555-1234\",\"salary\": \"$87,000\"},\n",
    "             {\"name\": \"Leslie Knope\",\"age\": 46 ,\"department\": \"Middle Management\",\"phone\": \"555-4321\",\"salary\": \"$87,000\"},\n",
    "             {\"name\":\"Andy Dwyer\" ,\"age\": 55,\"department\": \"Shoe Shining\",\"phone\": \"555-1122\",\"salary\": \"$87,000\"}, \n",
    "             {\"name\": \"April Ludgate\",\"age\": 55,\"department\": \"Administration\",\"phone\": \"555-3345\",\"salary\": \"$87,000\"}]"
   ]
  },
  {
   "cell_type": "code",
   "execution_count": 21,
   "id": "2aa08ffa",
   "metadata": {},
   "outputs": [
    {
     "name": "stdout",
     "output_type": "stream",
     "text": [
      "Ron Swanson in Management can be reached at 555-1234\n",
      "Leslie Knope in Middle Management can be reached at 555-4321\n",
      "Andy Dwyer in Shoe Shining can be reached at 555-1122\n",
      "April Ludgate in Administration can be reached at 555-3345\n"
     ]
    }
   ],
   "source": [
    "i=0\n",
    "while i<=3:\n",
    "    print (employees[i][\"name\"],\"in\", employees[i][\"department\"], \"can be reached at\", employees[i][\"phone\"])\n",
    "    i+=1"
   ]
  },
  {
   "cell_type": "code",
   "execution_count": null,
   "id": "5988aa30",
   "metadata": {},
   "outputs": [],
   "source": []
  }
 ],
 "metadata": {
  "kernelspec": {
   "display_name": "Python 3",
   "language": "python",
   "name": "python3"
  },
  "language_info": {
   "codemirror_mode": {
    "name": "ipython",
    "version": 3
   },
   "file_extension": ".py",
   "mimetype": "text/x-python",
   "name": "python",
   "nbconvert_exporter": "python",
   "pygments_lexer": "ipython3",
   "version": "3.8.8"
  }
 },
 "nbformat": 4,
 "nbformat_minor": 5
}
