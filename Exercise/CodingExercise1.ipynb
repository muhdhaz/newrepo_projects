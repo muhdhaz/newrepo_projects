{
 "cells": [
  {
   "cell_type": "markdown",
   "metadata": {},
   "source": [
    "## Exercise 1: Bottle Deposits\n",
    "\n",
    "In many jurisdictions a small deposit is added to drink containers to encourage people to recycle them. In one particular jurisdiction, drink containers holding one liter or less have a \\$0.1$ deposit and drink containers holding more than one liter have a $0.25$ deposit.\n",
    "Write a program that reads the number of containers of each size from the user.\n",
    "Your program should continue by computing and displaying the refund that will be received for returning those containers. Format the output so that it includes a dollar sign and always displays exactly two decimal places."
   ]
  },
  {
   "cell_type": "code",
   "execution_count": 1,
   "metadata": {},
   "outputs": [
    {
     "name": "stdout",
     "output_type": "stream",
     "text": [
      "Please enter the number of containers 1L or less : 3\n",
      "Please enter the number of containers more than 1L : 2\n",
      "Refund $0.50\n"
     ]
    }
   ],
   "source": [
    "container_small = input(\"Please enter the number of containers 1L or less : \")\n",
    "while container_small < \"0\":\n",
    "    container_small = input(\"Please enter a number more than 0: \")\n",
    "\n",
    "container_big = input (\"Please enter the number of containers more than 1L : \")\n",
    "while container_big < \"0\":\n",
    "    container_big = input(\"Please enter a number more than 0: \")\n",
    "deposit_small = 0.1 * int(container_small)\n",
    "deposit_big = 0.1 * int(container_big)\n",
    "\n",
    "refund = deposit_small + deposit_big\n",
    "#refund = 23.98769869\n",
    "#refund_big = refund * deposit_big\n",
    "#refund_small = refund * deposit_small\n",
    "#total_refund = refund_big + refund_small\n",
    "print('Refund $%.2f'% refund)\n",
    "#print (\"Total refund $%.2f\"% total_refund)\n"
   ]
  },
  {
   "cell_type": "markdown",
   "metadata": {},
   "source": [
    "## Exercise 2: Admission Price\n",
    "\n",
    "A particular zoo determines the price of admission based on the age of the guest. Guests 2 years of age and less are admitted without charge. Children between 3 and 12 years of age cost \\$14.00$. Seniors aged 65 years and over cost \\$18.00. Admission for all other guests is 23.00.\n",
    "\n",
    "Create a program that begins by reading the ages of all of the guests in a group from the user, with one age entered on each line. The user will enter a blank line to indicate that there are no more guests in the group. Then your program should display the admission cost for the group with an appropriate message. The cost should be displayed using two decimal places."
   ]
  },
  {
   "cell_type": "code",
   "execution_count": 38,
   "metadata": {},
   "outputs": [
    {
     "name": "stdout",
     "output_type": "stream",
     "text": [
      "Please enter the age of the guest :3\n",
      "Please enter the age of the guest :6\n",
      "Please enter the age of the guest :4\n",
      "Please enter the age of the guest :12\n",
      "Please enter the age of the guest :66\n",
      "Please enter the age of the guest :\n",
      "The total price for the group is $74.00\n"
     ]
    }
   ],
   "source": [
    "price = 0\n",
    "guest = input(\"Please enter the age of the guest :\")\n",
    "while guest != '':\n",
    "    age = int(guest)\n",
    "    guest = input(\"Please enter the age of the guest :\")\n",
    "    \n",
    "    if age <= 2:\n",
    "        price += 0\n",
    "    elif age >= 3 and age <= 12:\n",
    "        price += 14.00\n",
    "    elif age > 65:\n",
    "        price += 18.00\n",
    "    else:\n",
    "        price += 23.00\n",
    "        \n",
    "\n",
    "print(\"The total price for the group is $%.2f\"%price)"
   ]
  },
  {
   "cell_type": "markdown",
   "metadata": {},
   "source": [
    "## Exercise 3: Fizz Buzz\n",
    "\n",
    "Write a program that prints the numbers from 0 to 100. But, for multiples of three, print “Fizz” instead of the number. For multiples of five, print “Buzz”.\n",
    "For numbers which are multiples of both three and five, print “FizzBuzz”\n",
    "\n"
   ]
  },
  {
   "cell_type": "code",
   "execution_count": 42,
   "metadata": {},
   "outputs": [
    {
     "name": "stdout",
     "output_type": "stream",
     "text": [
      "0\n",
      "1\n",
      "2\n",
      "fizz\n",
      "4\n",
      "buzz\n",
      "fizz\n",
      "7\n",
      "8\n",
      "fizz\n",
      "buzz\n",
      "11\n",
      "fizz\n",
      "13\n",
      "14\n",
      "fizzbuzz\n",
      "16\n",
      "17\n",
      "fizz\n",
      "19\n",
      "buzz\n",
      "fizz\n",
      "22\n",
      "23\n",
      "fizz\n",
      "buzz\n",
      "26\n",
      "fizz\n",
      "28\n",
      "29\n",
      "fizzbuzz\n",
      "31\n",
      "32\n",
      "fizz\n",
      "34\n",
      "buzz\n",
      "fizz\n",
      "37\n",
      "38\n",
      "fizz\n",
      "buzz\n",
      "41\n",
      "fizz\n",
      "43\n",
      "44\n",
      "fizzbuzz\n",
      "46\n",
      "47\n",
      "fizz\n",
      "49\n",
      "buzz\n",
      "fizz\n",
      "52\n",
      "53\n",
      "fizz\n",
      "buzz\n",
      "56\n",
      "fizz\n",
      "58\n",
      "59\n",
      "fizzbuzz\n",
      "61\n",
      "62\n",
      "fizz\n",
      "64\n",
      "buzz\n",
      "fizz\n",
      "67\n",
      "68\n",
      "fizz\n",
      "buzz\n",
      "71\n",
      "fizz\n",
      "73\n",
      "74\n",
      "fizzbuzz\n",
      "76\n",
      "77\n",
      "fizz\n",
      "79\n",
      "buzz\n",
      "fizz\n",
      "82\n",
      "83\n",
      "fizz\n",
      "buzz\n",
      "86\n",
      "fizz\n",
      "88\n",
      "89\n",
      "fizzbuzz\n",
      "91\n",
      "92\n",
      "fizz\n",
      "94\n",
      "buzz\n",
      "fizz\n",
      "97\n",
      "98\n",
      "fizz\n",
      "buzz\n"
     ]
    }
   ],
   "source": [
    "# expected output\n",
    "#0 \n",
    "#1 \n",
    "#2 \n",
    "#Fizz \n",
    "#4 \n",
    "#Buzz \n",
    "#5 \n",
    "#.\n",
    "#.\n",
    "#FizzBuzz\n",
    "#.\n",
    "#.\n",
    "#.\n",
    "#100\n",
    "print(0)\n",
    "for fizzbuzz in range (1,101):\n",
    "    if fizzbuzz % 3 == 0 and fizzbuzz % 5 == 0:\n",
    "        print (\"fizzbuzz\")\n",
    "        continue\n",
    "    elif fizzbuzz % 3 == 0:\n",
    "        print (\"fizz\")\n",
    "        continue\n",
    "    elif fizzbuzz % 5 == 0:\n",
    "        print (\"buzz\")\n",
    "        continue\n",
    "    else:\n",
    "        print (fizzbuzz)\n"
   ]
  },
  {
   "cell_type": "markdown",
   "metadata": {},
   "source": [
    "## Exercise 4: Temperature conversion\n",
    "\n",
    "\n",
    "\n",
    "Write a function that take a deg C or Deg F and scale as input and returns what kind of temperature. The temperature grade in Kelvin scale is\n",
    "\n",
    "<ul>\n",
    "<li>temperature > 299: Too hot</li>\n",
    "<li>temperature less than equal to 299 and greater than 288: It's just right! </li>\n",
    "<li>temperature less than and equal to 288 and greater than 277: It's pretty cold!</li>\n",
    "    <li> Temp less than 277: its freezing </li>\n",
    "</ul>\n",
    "\n",
    "\n",
    "The formulas to use:\n",
    "<ul>\n",
    "<li>Celsius to Kelvin : K = °C + 273</li>\n",
    "<li>Fahrenheit to Kelvin : K = (5/9) * (°F - 32) + 273</li>\n",
    "</ul>\n"
   ]
  },
  {
   "cell_type": "code",
   "execution_count": 24,
   "metadata": {},
   "outputs": [
    {
     "name": "stdout",
     "output_type": "stream",
     "text": [
      "It's pretty cold! Temp is 285\n"
     ]
    },
    {
     "data": {
      "text/plain": [
       "308"
      ]
     },
     "execution_count": 24,
     "metadata": {},
     "output_type": "execute_result"
    }
   ],
   "source": [
    "def convert_temp(temperature, scale):\n",
    "    # code here\n",
    "    if scale == \"Farhenheit\":\n",
    "         return (5/9) * (temperature - 32) + 273\n",
    "    else:\n",
    "        return temperature + 273\n",
    "temp = convert_temp (12, \"Fahrenheit\")\n",
    "if temp > 299:\n",
    "    print (\"It's too hot! Temp is \", temp)\n",
    "elif temp <= 299 and temp > 288:\n",
    "    print (\"It's just right! Temp is\", temp)\n",
    "elif temp <= 288 and temp > 277:\n",
    "    print (\"It's pretty cold! Temp is\", temp)\n",
    "else:\n",
    "    print (\"It's freezing! Temp is\", temp)\n",
    "    pass\n",
    "\n",
    "convert_temp(35,\"Fahrenheit\")"
   ]
  },
  {
   "cell_type": "markdown",
   "metadata": {},
   "source": [
    "## Exercise 5: List Equality\n",
    "Write a function, \"check_list_equality\", that takes in two lists, \"first_list\" and \"second_list\", as parameters. Your function should return True if the two lists contain the same elements in the same order. Otherwise, it returns False."
   ]
  },
  {
   "cell_type": "code",
   "execution_count": 18,
   "metadata": {},
   "outputs": [],
   "source": [
    "def check_list_equality(first_list, second_list):\n",
    "    #Write code here\n",
    "    if first_list == second_list:\n",
    "        return True\n",
    "    else:\n",
    "        return False\n",
    "    pass"
   ]
  },
  {
   "cell_type": "code",
   "execution_count": 22,
   "metadata": {},
   "outputs": [
    {
     "name": "stdout",
     "output_type": "stream",
     "text": [
      "False\n"
     ]
    }
   ],
   "source": [
    "list_one = [1, 2, 3]\n",
    "list_two = [1, 2, 3]\n",
    "list_three = [3, 2, 1]\n",
    "print(check_list_equality(list_two, list_three))"
   ]
  },
  {
   "cell_type": "code",
   "execution_count": null,
   "metadata": {},
   "outputs": [],
   "source": []
  }
 ],
 "metadata": {
  "kernelspec": {
   "display_name": "Python 3",
   "language": "python",
   "name": "python3"
  },
  "language_info": {
   "codemirror_mode": {
    "name": "ipython",
    "version": 3
   },
   "file_extension": ".py",
   "mimetype": "text/x-python",
   "name": "python",
   "nbconvert_exporter": "python",
   "pygments_lexer": "ipython3",
   "version": "3.8.8"
  }
 },
 "nbformat": 4,
 "nbformat_minor": 4
}
