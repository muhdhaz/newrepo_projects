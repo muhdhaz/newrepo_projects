{
 "cells": [
  {
   "cell_type": "markdown",
   "id": "47bcaabc",
   "metadata": {},
   "source": [
    "# __Importing the required libraries and functions__"
   ]
  },
  {
   "cell_type": "code",
   "execution_count": 2,
   "id": "7693a19d",
   "metadata": {},
   "outputs": [],
   "source": [
    "import pandas as pd\n",
    "import numpy as np\n",
    "import matplotlib.pyplot as plt\n",
    "%matplotlib inline"
   ]
  },
  {
   "cell_type": "markdown",
   "id": "73fb5beb",
   "metadata": {},
   "source": [
    "# __Reading the dataset into Jupyter Notebook and basic info of the dataset__"
   ]
  },
  {
   "cell_type": "code",
   "execution_count": 3,
   "id": "39718717",
   "metadata": {},
   "outputs": [],
   "source": [
    "#Reading dataset into python using pandas\n",
    "transfers= pd.read_csv('Data_2010-2018.csv')"
   ]
  },
  {
   "cell_type": "code",
   "execution_count": 445,
   "id": "43ff9a50",
   "metadata": {},
   "outputs": [
    {
     "data": {
      "text/html": [
       "<div>\n",
       "<style scoped>\n",
       "    .dataframe tbody tr th:only-of-type {\n",
       "        vertical-align: middle;\n",
       "    }\n",
       "\n",
       "    .dataframe tbody tr th {\n",
       "        vertical-align: top;\n",
       "    }\n",
       "\n",
       "    .dataframe thead th {\n",
       "        text-align: right;\n",
       "    }\n",
       "</style>\n",
       "<table border=\"1\" class=\"dataframe\">\n",
       "  <thead>\n",
       "    <tr style=\"text-align: right;\">\n",
       "      <th></th>\n",
       "      <th>Name</th>\n",
       "      <th>Position</th>\n",
       "      <th>Age</th>\n",
       "      <th>Team_from</th>\n",
       "      <th>League_from</th>\n",
       "      <th>Team_to</th>\n",
       "      <th>League_to</th>\n",
       "      <th>Season</th>\n",
       "      <th>Market_value</th>\n",
       "      <th>Transfer_fee</th>\n",
       "      <th>Transfer_fee_million</th>\n",
       "      <th>Market_value_million</th>\n",
       "    </tr>\n",
       "  </thead>\n",
       "  <tbody>\n",
       "    <tr>\n",
       "      <th>0</th>\n",
       "      <td>Fernando Torres</td>\n",
       "      <td>Centre-Forward</td>\n",
       "      <td>26</td>\n",
       "      <td>Liverpool</td>\n",
       "      <td>Premier League</td>\n",
       "      <td>Chelsea</td>\n",
       "      <td>Premier League</td>\n",
       "      <td>2010</td>\n",
       "      <td>50000000.0</td>\n",
       "      <td>58500000</td>\n",
       "      <td>58.50</td>\n",
       "      <td>50.0</td>\n",
       "    </tr>\n",
       "    <tr>\n",
       "      <th>1</th>\n",
       "      <td>Andy Carroll</td>\n",
       "      <td>Centre-Forward</td>\n",
       "      <td>22</td>\n",
       "      <td>Newcastle</td>\n",
       "      <td>Premier League</td>\n",
       "      <td>Liverpool</td>\n",
       "      <td>Premier League</td>\n",
       "      <td>2010</td>\n",
       "      <td>2500000.0</td>\n",
       "      <td>41000000</td>\n",
       "      <td>41.00</td>\n",
       "      <td>2.5</td>\n",
       "    </tr>\n",
       "    <tr>\n",
       "      <th>2</th>\n",
       "      <td>David Villa</td>\n",
       "      <td>Centre-Forward</td>\n",
       "      <td>28</td>\n",
       "      <td>Valencia CF</td>\n",
       "      <td>LaLiga</td>\n",
       "      <td>FC Barcelona</td>\n",
       "      <td>LaLiga</td>\n",
       "      <td>2010</td>\n",
       "      <td>45000000.0</td>\n",
       "      <td>40000000</td>\n",
       "      <td>40.00</td>\n",
       "      <td>45.0</td>\n",
       "    </tr>\n",
       "    <tr>\n",
       "      <th>3</th>\n",
       "      <td>Edin Dzeko</td>\n",
       "      <td>Centre-Forward</td>\n",
       "      <td>24</td>\n",
       "      <td>VfL Wolfsburg</td>\n",
       "      <td>1.Bundesliga</td>\n",
       "      <td>Man City</td>\n",
       "      <td>Premier League</td>\n",
       "      <td>2010</td>\n",
       "      <td>30000000.0</td>\n",
       "      <td>37000000</td>\n",
       "      <td>37.00</td>\n",
       "      <td>30.0</td>\n",
       "    </tr>\n",
       "    <tr>\n",
       "      <th>4</th>\n",
       "      <td>Ángel Di María</td>\n",
       "      <td>Right Winger</td>\n",
       "      <td>22</td>\n",
       "      <td>Benfica</td>\n",
       "      <td>Liga NOS</td>\n",
       "      <td>Real Madrid</td>\n",
       "      <td>LaLiga</td>\n",
       "      <td>2010</td>\n",
       "      <td>9500000.0</td>\n",
       "      <td>33000000</td>\n",
       "      <td>33.00</td>\n",
       "      <td>9.5</td>\n",
       "    </tr>\n",
       "    <tr>\n",
       "      <th>5</th>\n",
       "      <td>Yaya Touré</td>\n",
       "      <td>Central Midfield</td>\n",
       "      <td>27</td>\n",
       "      <td>FC Barcelona</td>\n",
       "      <td>LaLiga</td>\n",
       "      <td>Man City</td>\n",
       "      <td>Premier League</td>\n",
       "      <td>2010</td>\n",
       "      <td>18000000.0</td>\n",
       "      <td>30000000</td>\n",
       "      <td>30.00</td>\n",
       "      <td>18.0</td>\n",
       "    </tr>\n",
       "    <tr>\n",
       "      <th>6</th>\n",
       "      <td>Mario Balotelli</td>\n",
       "      <td>Centre-Forward</td>\n",
       "      <td>20</td>\n",
       "      <td>Inter</td>\n",
       "      <td>Serie A</td>\n",
       "      <td>Man City</td>\n",
       "      <td>Premier League</td>\n",
       "      <td>2010</td>\n",
       "      <td>26000000.0</td>\n",
       "      <td>29500000</td>\n",
       "      <td>29.50</td>\n",
       "      <td>26.0</td>\n",
       "    </tr>\n",
       "    <tr>\n",
       "      <th>7</th>\n",
       "      <td>David Silva</td>\n",
       "      <td>Attacking Midfield</td>\n",
       "      <td>24</td>\n",
       "      <td>Valencia CF</td>\n",
       "      <td>LaLiga</td>\n",
       "      <td>Man City</td>\n",
       "      <td>Premier League</td>\n",
       "      <td>2010</td>\n",
       "      <td>32000000.0</td>\n",
       "      <td>28750000</td>\n",
       "      <td>28.75</td>\n",
       "      <td>32.0</td>\n",
       "    </tr>\n",
       "    <tr>\n",
       "      <th>8</th>\n",
       "      <td>Luis Suárez</td>\n",
       "      <td>Centre-Forward</td>\n",
       "      <td>24</td>\n",
       "      <td>AFC Ajax</td>\n",
       "      <td>Eredivisie</td>\n",
       "      <td>Liverpool</td>\n",
       "      <td>Premier League</td>\n",
       "      <td>2010</td>\n",
       "      <td>25000000.0</td>\n",
       "      <td>26500000</td>\n",
       "      <td>26.50</td>\n",
       "      <td>25.0</td>\n",
       "    </tr>\n",
       "    <tr>\n",
       "      <th>9</th>\n",
       "      <td>David Luiz</td>\n",
       "      <td>Centre-Back</td>\n",
       "      <td>23</td>\n",
       "      <td>Benfica</td>\n",
       "      <td>Liga NOS</td>\n",
       "      <td>Chelsea</td>\n",
       "      <td>Premier League</td>\n",
       "      <td>2010</td>\n",
       "      <td>14000000.0</td>\n",
       "      <td>25000000</td>\n",
       "      <td>25.00</td>\n",
       "      <td>14.0</td>\n",
       "    </tr>\n",
       "    <tr>\n",
       "      <th>10</th>\n",
       "      <td>Aleksandar Kolarov</td>\n",
       "      <td>Left-Back</td>\n",
       "      <td>24</td>\n",
       "      <td>Lazio</td>\n",
       "      <td>Serie A</td>\n",
       "      <td>Man City</td>\n",
       "      <td>Premier League</td>\n",
       "      <td>2010</td>\n",
       "      <td>9000000.0</td>\n",
       "      <td>23860000</td>\n",
       "      <td>23.86</td>\n",
       "      <td>9.0</td>\n",
       "    </tr>\n",
       "    <tr>\n",
       "      <th>11</th>\n",
       "      <td>Yoann Gourcuff</td>\n",
       "      <td>Attacking Midfield</td>\n",
       "      <td>24</td>\n",
       "      <td>G. Bordeaux</td>\n",
       "      <td>Ligue 1</td>\n",
       "      <td>Olympique Lyon</td>\n",
       "      <td>Ligue 1</td>\n",
       "      <td>2010</td>\n",
       "      <td>22500000.0</td>\n",
       "      <td>22000000</td>\n",
       "      <td>22.00</td>\n",
       "      <td>22.5</td>\n",
       "    </tr>\n",
       "    <tr>\n",
       "      <th>12</th>\n",
       "      <td>James Milner</td>\n",
       "      <td>Central Midfield</td>\n",
       "      <td>24</td>\n",
       "      <td>Aston Villa</td>\n",
       "      <td>Premier League</td>\n",
       "      <td>Man City</td>\n",
       "      <td>Premier League</td>\n",
       "      <td>2010</td>\n",
       "      <td>20000000.0</td>\n",
       "      <td>22000000</td>\n",
       "      <td>22.00</td>\n",
       "      <td>20.0</td>\n",
       "    </tr>\n",
       "    <tr>\n",
       "      <th>13</th>\n",
       "      <td>Bruno Alves</td>\n",
       "      <td>Centre-Back</td>\n",
       "      <td>28</td>\n",
       "      <td>FC Porto</td>\n",
       "      <td>Liga NOS</td>\n",
       "      <td>Zenit S-Pb</td>\n",
       "      <td>Premier Liga</td>\n",
       "      <td>2010</td>\n",
       "      <td>18000000.0</td>\n",
       "      <td>22000000</td>\n",
       "      <td>22.00</td>\n",
       "      <td>18.0</td>\n",
       "    </tr>\n",
       "    <tr>\n",
       "      <th>14</th>\n",
       "      <td>Ramires</td>\n",
       "      <td>Central Midfield</td>\n",
       "      <td>23</td>\n",
       "      <td>Benfica</td>\n",
       "      <td>Liga NOS</td>\n",
       "      <td>Chelsea</td>\n",
       "      <td>Premier League</td>\n",
       "      <td>2010</td>\n",
       "      <td>14000000.0</td>\n",
       "      <td>22000000</td>\n",
       "      <td>22.00</td>\n",
       "      <td>14.0</td>\n",
       "    </tr>\n",
       "    <tr>\n",
       "      <th>15</th>\n",
       "      <td>Darren Bent</td>\n",
       "      <td>Centre-Forward</td>\n",
       "      <td>26</td>\n",
       "      <td>Sunderland</td>\n",
       "      <td>Premier League</td>\n",
       "      <td>Aston Villa</td>\n",
       "      <td>Premier League</td>\n",
       "      <td>2010</td>\n",
       "      <td>18000000.0</td>\n",
       "      <td>21500000</td>\n",
       "      <td>21.50</td>\n",
       "      <td>18.0</td>\n",
       "    </tr>\n",
       "    <tr>\n",
       "      <th>16</th>\n",
       "      <td>Javier Mascherano</td>\n",
       "      <td>Defensive Midfield</td>\n",
       "      <td>26</td>\n",
       "      <td>Liverpool</td>\n",
       "      <td>Premier League</td>\n",
       "      <td>FC Barcelona</td>\n",
       "      <td>LaLiga</td>\n",
       "      <td>2010</td>\n",
       "      <td>26000000.0</td>\n",
       "      <td>20000000</td>\n",
       "      <td>20.00</td>\n",
       "      <td>26.0</td>\n",
       "    </tr>\n",
       "    <tr>\n",
       "      <th>17</th>\n",
       "      <td>Carlos Eduardo</td>\n",
       "      <td>Attacking Midfield</td>\n",
       "      <td>23</td>\n",
       "      <td>TSG Hoffenheim</td>\n",
       "      <td>1.Bundesliga</td>\n",
       "      <td>Rubin Kazan</td>\n",
       "      <td>Premier Liga</td>\n",
       "      <td>2010</td>\n",
       "      <td>14500000.0</td>\n",
       "      <td>20000000</td>\n",
       "      <td>20.00</td>\n",
       "      <td>14.5</td>\n",
       "    </tr>\n",
       "    <tr>\n",
       "      <th>18</th>\n",
       "      <td>Andrea Ranocchia</td>\n",
       "      <td>Centre-Back</td>\n",
       "      <td>22</td>\n",
       "      <td>Genoa</td>\n",
       "      <td>Serie A</td>\n",
       "      <td>Inter</td>\n",
       "      <td>Serie A</td>\n",
       "      <td>2010</td>\n",
       "      <td>10000000.0</td>\n",
       "      <td>18500000</td>\n",
       "      <td>18.50</td>\n",
       "      <td>10.0</td>\n",
       "    </tr>\n",
       "    <tr>\n",
       "      <th>19</th>\n",
       "      <td>Mesut Özil</td>\n",
       "      <td>Attacking Midfield</td>\n",
       "      <td>21</td>\n",
       "      <td>Werder Bremen</td>\n",
       "      <td>1.Bundesliga</td>\n",
       "      <td>Real Madrid</td>\n",
       "      <td>LaLiga</td>\n",
       "      <td>2010</td>\n",
       "      <td>27000000.0</td>\n",
       "      <td>18000000</td>\n",
       "      <td>18.00</td>\n",
       "      <td>27.0</td>\n",
       "    </tr>\n",
       "  </tbody>\n",
       "</table>\n",
       "</div>"
      ],
      "text/plain": [
       "                  Name            Position  Age       Team_from  \\\n",
       "0      Fernando Torres      Centre-Forward   26       Liverpool   \n",
       "1         Andy Carroll      Centre-Forward   22       Newcastle   \n",
       "2          David Villa      Centre-Forward   28     Valencia CF   \n",
       "3           Edin Dzeko      Centre-Forward   24   VfL Wolfsburg   \n",
       "4       Ángel Di María        Right Winger   22         Benfica   \n",
       "5           Yaya Touré    Central Midfield   27    FC Barcelona   \n",
       "6      Mario Balotelli      Centre-Forward   20           Inter   \n",
       "7          David Silva  Attacking Midfield   24     Valencia CF   \n",
       "8          Luis Suárez      Centre-Forward   24        AFC Ajax   \n",
       "9           David Luiz         Centre-Back   23         Benfica   \n",
       "10  Aleksandar Kolarov           Left-Back   24           Lazio   \n",
       "11      Yoann Gourcuff  Attacking Midfield   24     G. Bordeaux   \n",
       "12        James Milner    Central Midfield   24     Aston Villa   \n",
       "13         Bruno Alves         Centre-Back   28        FC Porto   \n",
       "14             Ramires    Central Midfield   23         Benfica   \n",
       "15         Darren Bent      Centre-Forward   26      Sunderland   \n",
       "16   Javier Mascherano  Defensive Midfield   26       Liverpool   \n",
       "17      Carlos Eduardo  Attacking Midfield   23  TSG Hoffenheim   \n",
       "18    Andrea Ranocchia         Centre-Back   22           Genoa   \n",
       "19          Mesut Özil  Attacking Midfield   21   Werder Bremen   \n",
       "\n",
       "       League_from         Team_to       League_to  Season  Market_value  \\\n",
       "0   Premier League         Chelsea  Premier League    2010    50000000.0   \n",
       "1   Premier League       Liverpool  Premier League    2010     2500000.0   \n",
       "2           LaLiga    FC Barcelona          LaLiga    2010    45000000.0   \n",
       "3     1.Bundesliga        Man City  Premier League    2010    30000000.0   \n",
       "4         Liga NOS     Real Madrid          LaLiga    2010     9500000.0   \n",
       "5           LaLiga        Man City  Premier League    2010    18000000.0   \n",
       "6          Serie A        Man City  Premier League    2010    26000000.0   \n",
       "7           LaLiga        Man City  Premier League    2010    32000000.0   \n",
       "8       Eredivisie       Liverpool  Premier League    2010    25000000.0   \n",
       "9         Liga NOS         Chelsea  Premier League    2010    14000000.0   \n",
       "10         Serie A        Man City  Premier League    2010     9000000.0   \n",
       "11         Ligue 1  Olympique Lyon         Ligue 1    2010    22500000.0   \n",
       "12  Premier League        Man City  Premier League    2010    20000000.0   \n",
       "13        Liga NOS      Zenit S-Pb    Premier Liga    2010    18000000.0   \n",
       "14        Liga NOS         Chelsea  Premier League    2010    14000000.0   \n",
       "15  Premier League     Aston Villa  Premier League    2010    18000000.0   \n",
       "16  Premier League    FC Barcelona          LaLiga    2010    26000000.0   \n",
       "17    1.Bundesliga     Rubin Kazan    Premier Liga    2010    14500000.0   \n",
       "18         Serie A           Inter         Serie A    2010    10000000.0   \n",
       "19    1.Bundesliga     Real Madrid          LaLiga    2010    27000000.0   \n",
       "\n",
       "    Transfer_fee  Transfer_fee_million  Market_value_million  \n",
       "0       58500000                 58.50                  50.0  \n",
       "1       41000000                 41.00                   2.5  \n",
       "2       40000000                 40.00                  45.0  \n",
       "3       37000000                 37.00                  30.0  \n",
       "4       33000000                 33.00                   9.5  \n",
       "5       30000000                 30.00                  18.0  \n",
       "6       29500000                 29.50                  26.0  \n",
       "7       28750000                 28.75                  32.0  \n",
       "8       26500000                 26.50                  25.0  \n",
       "9       25000000                 25.00                  14.0  \n",
       "10      23860000                 23.86                   9.0  \n",
       "11      22000000                 22.00                  22.5  \n",
       "12      22000000                 22.00                  20.0  \n",
       "13      22000000                 22.00                  18.0  \n",
       "14      22000000                 22.00                  14.0  \n",
       "15      21500000                 21.50                  18.0  \n",
       "16      20000000                 20.00                  26.0  \n",
       "17      20000000                 20.00                  14.5  \n",
       "18      18500000                 18.50                  10.0  \n",
       "19      18000000                 18.00                  27.0  "
      ]
     },
     "execution_count": 445,
     "metadata": {},
     "output_type": "execute_result"
    }
   ],
   "source": [
    "#Top 20 values in the dataset\n",
    "transfers.head(20)"
   ]
  },
  {
   "cell_type": "code",
   "execution_count": 446,
   "id": "beb45856",
   "metadata": {},
   "outputs": [
    {
     "data": {
      "text/plain": [
       "(2222, 12)"
      ]
     },
     "execution_count": 446,
     "metadata": {},
     "output_type": "execute_result"
    }
   ],
   "source": [
    "#Shape of the dataset (rows, columns)\n",
    "transfers.shape"
   ]
  },
  {
   "cell_type": "code",
   "execution_count": 447,
   "id": "d119cdaf",
   "metadata": {},
   "outputs": [
    {
     "data": {
      "text/plain": [
       "Name                     object\n",
       "Position                 object\n",
       "Age                       int64\n",
       "Team_from                object\n",
       "League_from              object\n",
       "Team_to                  object\n",
       "League_to                object\n",
       "Season                    int64\n",
       "Market_value            float64\n",
       "Transfer_fee              int64\n",
       "Transfer_fee_million    float64\n",
       "Market_value_million    float64\n",
       "dtype: object"
      ]
     },
     "execution_count": 447,
     "metadata": {},
     "output_type": "execute_result"
    }
   ],
   "source": [
    "#Types of data in each column\n",
    "transfers.dtypes"
   ]
  },
  {
   "cell_type": "code",
   "execution_count": 231,
   "id": "5b7d07f7",
   "metadata": {},
   "outputs": [
    {
     "data": {
      "text/plain": [
       "RangeIndex(start=0, stop=2225, step=1)"
      ]
     },
     "execution_count": 231,
     "metadata": {},
     "output_type": "execute_result"
    }
   ],
   "source": [
    "transfers.index"
   ]
  },
  {
   "cell_type": "markdown",
   "id": "3d14b0fa",
   "metadata": {},
   "source": [
    "# __Modifying the season column into int for plotting__"
   ]
  },
  {
   "cell_type": "code",
   "execution_count": 238,
   "id": "ec9e426c",
   "metadata": {},
   "outputs": [
    {
     "name": "stdout",
     "output_type": "stream",
     "text": [
      "['2010-2011' '2011-2012' '2012-2013' '2013-2014' '2014-2015' '2015-2016'\n",
      " '2016-2017' '2017-2018' '2018-2019']\n"
     ]
    }
   ],
   "source": [
    "#Unique values in the season columns represent the year of season start\n",
    "season=transfers['Season'].unique()\n",
    "print(season)"
   ]
  },
  {
   "cell_type": "code",
   "execution_count": 239,
   "id": "848d4c9b",
   "metadata": {},
   "outputs": [],
   "source": [
    "#Defining a function which contains dictionary to change season values into single year int values\n",
    "def season_rename(season):\n",
    "    year_dict = {'2010-2011':2010,\n",
    "                '2011-2012':2011,\n",
    "                 '2012-2013':2012,\n",
    "                 '2013-2014':2013,\n",
    "                 '2014-2015':2014,\n",
    "                 '2015-2016':2015,\n",
    "                 '2016-2017':2016,\n",
    "                 '2017-2018':2017,\n",
    "                 '2018-2019':2018,\n",
    "                }\n",
    "\n",
    "    return year_dict[season]\n",
    "   "
   ]
  },
  {
   "cell_type": "code",
   "execution_count": 247,
   "id": "c696389c",
   "metadata": {},
   "outputs": [],
   "source": [
    "#Applying the function into the dataset\n",
    "transfers['Season'] = transfers['Season'].apply(season_rename)"
   ]
  },
  {
   "cell_type": "code",
   "execution_count": 321,
   "id": "ffa6a157",
   "metadata": {},
   "outputs": [
    {
     "data": {
      "text/html": [
       "<div>\n",
       "<style scoped>\n",
       "    .dataframe tbody tr th:only-of-type {\n",
       "        vertical-align: middle;\n",
       "    }\n",
       "\n",
       "    .dataframe tbody tr th {\n",
       "        vertical-align: top;\n",
       "    }\n",
       "\n",
       "    .dataframe thead th {\n",
       "        text-align: right;\n",
       "    }\n",
       "</style>\n",
       "<table border=\"1\" class=\"dataframe\">\n",
       "  <thead>\n",
       "    <tr style=\"text-align: right;\">\n",
       "      <th></th>\n",
       "      <th>Name</th>\n",
       "      <th>Position</th>\n",
       "      <th>Age</th>\n",
       "      <th>Team_from</th>\n",
       "      <th>League_from</th>\n",
       "      <th>Team_to</th>\n",
       "      <th>League_to</th>\n",
       "      <th>Season</th>\n",
       "      <th>Market_value</th>\n",
       "      <th>Transfer_fee</th>\n",
       "    </tr>\n",
       "  </thead>\n",
       "  <tbody>\n",
       "    <tr>\n",
       "      <th>0</th>\n",
       "      <td>Fernando Torres</td>\n",
       "      <td>Centre-Forward</td>\n",
       "      <td>26</td>\n",
       "      <td>Liverpool</td>\n",
       "      <td>Premier League</td>\n",
       "      <td>Chelsea</td>\n",
       "      <td>Premier League</td>\n",
       "      <td>2010</td>\n",
       "      <td>50000000.0</td>\n",
       "      <td>58500000</td>\n",
       "    </tr>\n",
       "    <tr>\n",
       "      <th>1</th>\n",
       "      <td>Andy Carroll</td>\n",
       "      <td>Centre-Forward</td>\n",
       "      <td>22</td>\n",
       "      <td>Newcastle</td>\n",
       "      <td>Premier League</td>\n",
       "      <td>Liverpool</td>\n",
       "      <td>Premier League</td>\n",
       "      <td>2010</td>\n",
       "      <td>2500000.0</td>\n",
       "      <td>41000000</td>\n",
       "    </tr>\n",
       "    <tr>\n",
       "      <th>2</th>\n",
       "      <td>David Villa</td>\n",
       "      <td>Centre-Forward</td>\n",
       "      <td>28</td>\n",
       "      <td>Valencia CF</td>\n",
       "      <td>LaLiga</td>\n",
       "      <td>FC Barcelona</td>\n",
       "      <td>LaLiga</td>\n",
       "      <td>2010</td>\n",
       "      <td>45000000.0</td>\n",
       "      <td>40000000</td>\n",
       "    </tr>\n",
       "    <tr>\n",
       "      <th>3</th>\n",
       "      <td>Edin Dzeko</td>\n",
       "      <td>Centre-Forward</td>\n",
       "      <td>24</td>\n",
       "      <td>VfL Wolfsburg</td>\n",
       "      <td>1.Bundesliga</td>\n",
       "      <td>Man City</td>\n",
       "      <td>Premier League</td>\n",
       "      <td>2010</td>\n",
       "      <td>30000000.0</td>\n",
       "      <td>37000000</td>\n",
       "    </tr>\n",
       "    <tr>\n",
       "      <th>4</th>\n",
       "      <td>Ángel Di María</td>\n",
       "      <td>Right Winger</td>\n",
       "      <td>22</td>\n",
       "      <td>Benfica</td>\n",
       "      <td>Liga NOS</td>\n",
       "      <td>Real Madrid</td>\n",
       "      <td>LaLiga</td>\n",
       "      <td>2010</td>\n",
       "      <td>9500000.0</td>\n",
       "      <td>33000000</td>\n",
       "    </tr>\n",
       "    <tr>\n",
       "      <th>5</th>\n",
       "      <td>Yaya Touré</td>\n",
       "      <td>Central Midfield</td>\n",
       "      <td>27</td>\n",
       "      <td>FC Barcelona</td>\n",
       "      <td>LaLiga</td>\n",
       "      <td>Man City</td>\n",
       "      <td>Premier League</td>\n",
       "      <td>2010</td>\n",
       "      <td>18000000.0</td>\n",
       "      <td>30000000</td>\n",
       "    </tr>\n",
       "    <tr>\n",
       "      <th>6</th>\n",
       "      <td>Mario Balotelli</td>\n",
       "      <td>Centre-Forward</td>\n",
       "      <td>20</td>\n",
       "      <td>Inter</td>\n",
       "      <td>Serie A</td>\n",
       "      <td>Man City</td>\n",
       "      <td>Premier League</td>\n",
       "      <td>2010</td>\n",
       "      <td>26000000.0</td>\n",
       "      <td>29500000</td>\n",
       "    </tr>\n",
       "    <tr>\n",
       "      <th>7</th>\n",
       "      <td>David Silva</td>\n",
       "      <td>Attacking Midfield</td>\n",
       "      <td>24</td>\n",
       "      <td>Valencia CF</td>\n",
       "      <td>LaLiga</td>\n",
       "      <td>Man City</td>\n",
       "      <td>Premier League</td>\n",
       "      <td>2010</td>\n",
       "      <td>32000000.0</td>\n",
       "      <td>28750000</td>\n",
       "    </tr>\n",
       "    <tr>\n",
       "      <th>8</th>\n",
       "      <td>Luis Suárez</td>\n",
       "      <td>Centre-Forward</td>\n",
       "      <td>24</td>\n",
       "      <td>AFC Ajax</td>\n",
       "      <td>Eredivisie</td>\n",
       "      <td>Liverpool</td>\n",
       "      <td>Premier League</td>\n",
       "      <td>2010</td>\n",
       "      <td>25000000.0</td>\n",
       "      <td>26500000</td>\n",
       "    </tr>\n",
       "    <tr>\n",
       "      <th>9</th>\n",
       "      <td>David Luiz</td>\n",
       "      <td>Centre-Back</td>\n",
       "      <td>23</td>\n",
       "      <td>Benfica</td>\n",
       "      <td>Liga NOS</td>\n",
       "      <td>Chelsea</td>\n",
       "      <td>Premier League</td>\n",
       "      <td>2010</td>\n",
       "      <td>14000000.0</td>\n",
       "      <td>25000000</td>\n",
       "    </tr>\n",
       "  </tbody>\n",
       "</table>\n",
       "</div>"
      ],
      "text/plain": [
       "              Name            Position  Age      Team_from     League_from  \\\n",
       "0  Fernando Torres      Centre-Forward   26      Liverpool  Premier League   \n",
       "1     Andy Carroll      Centre-Forward   22      Newcastle  Premier League   \n",
       "2      David Villa      Centre-Forward   28    Valencia CF          LaLiga   \n",
       "3       Edin Dzeko      Centre-Forward   24  VfL Wolfsburg    1.Bundesliga   \n",
       "4   Ángel Di María        Right Winger   22        Benfica        Liga NOS   \n",
       "5       Yaya Touré    Central Midfield   27   FC Barcelona          LaLiga   \n",
       "6  Mario Balotelli      Centre-Forward   20          Inter         Serie A   \n",
       "7      David Silva  Attacking Midfield   24    Valencia CF          LaLiga   \n",
       "8      Luis Suárez      Centre-Forward   24       AFC Ajax      Eredivisie   \n",
       "9       David Luiz         Centre-Back   23        Benfica        Liga NOS   \n",
       "\n",
       "        Team_to       League_to  Season  Market_value  Transfer_fee  \n",
       "0       Chelsea  Premier League    2010    50000000.0      58500000  \n",
       "1     Liverpool  Premier League    2010     2500000.0      41000000  \n",
       "2  FC Barcelona          LaLiga    2010    45000000.0      40000000  \n",
       "3      Man City  Premier League    2010    30000000.0      37000000  \n",
       "4   Real Madrid          LaLiga    2010     9500000.0      33000000  \n",
       "5      Man City  Premier League    2010    18000000.0      30000000  \n",
       "6      Man City  Premier League    2010    26000000.0      29500000  \n",
       "7      Man City  Premier League    2010    32000000.0      28750000  \n",
       "8     Liverpool  Premier League    2010    25000000.0      26500000  \n",
       "9       Chelsea  Premier League    2010    14000000.0      25000000  "
      ]
     },
     "execution_count": 321,
     "metadata": {},
     "output_type": "execute_result"
    }
   ],
   "source": [
    "#Dataset with modified values\n",
    "transfers.head(10)"
   ]
  },
  {
   "cell_type": "markdown",
   "id": "24586c69",
   "metadata": {},
   "source": [
    "# __Creating Market_value_million and Transfer_fee_million columns using float for simpler visualisation__"
   ]
  },
  {
   "cell_type": "code",
   "execution_count": 349,
   "id": "5eb3cc3b",
   "metadata": {},
   "outputs": [],
   "source": [
    "transfers['Transfer_fee_million']=transfers['Transfer_fee'].apply(lambda x :float(x/1000000))"
   ]
  },
  {
   "cell_type": "code",
   "execution_count": 350,
   "id": "56c00167",
   "metadata": {},
   "outputs": [],
   "source": [
    "transfers['Market_value_million']=transfers['Market_value'].apply(lambda x :float(x/1000000))"
   ]
  },
  {
   "cell_type": "code",
   "execution_count": 351,
   "id": "168fd8ce",
   "metadata": {},
   "outputs": [
    {
     "data": {
      "text/html": [
       "<div>\n",
       "<style scoped>\n",
       "    .dataframe tbody tr th:only-of-type {\n",
       "        vertical-align: middle;\n",
       "    }\n",
       "\n",
       "    .dataframe tbody tr th {\n",
       "        vertical-align: top;\n",
       "    }\n",
       "\n",
       "    .dataframe thead th {\n",
       "        text-align: right;\n",
       "    }\n",
       "</style>\n",
       "<table border=\"1\" class=\"dataframe\">\n",
       "  <thead>\n",
       "    <tr style=\"text-align: right;\">\n",
       "      <th></th>\n",
       "      <th>Name</th>\n",
       "      <th>Position</th>\n",
       "      <th>Age</th>\n",
       "      <th>Team_from</th>\n",
       "      <th>League_from</th>\n",
       "      <th>Team_to</th>\n",
       "      <th>League_to</th>\n",
       "      <th>Season</th>\n",
       "      <th>Market_value</th>\n",
       "      <th>Transfer_fee</th>\n",
       "      <th>Transfer_fee_million</th>\n",
       "      <th>Market_value_million</th>\n",
       "    </tr>\n",
       "  </thead>\n",
       "  <tbody>\n",
       "    <tr>\n",
       "      <th>0</th>\n",
       "      <td>Fernando Torres</td>\n",
       "      <td>Centre-Forward</td>\n",
       "      <td>26</td>\n",
       "      <td>Liverpool</td>\n",
       "      <td>Premier League</td>\n",
       "      <td>Chelsea</td>\n",
       "      <td>Premier League</td>\n",
       "      <td>2010</td>\n",
       "      <td>50000000.0</td>\n",
       "      <td>58500000</td>\n",
       "      <td>58.5</td>\n",
       "      <td>50.0</td>\n",
       "    </tr>\n",
       "    <tr>\n",
       "      <th>1</th>\n",
       "      <td>Andy Carroll</td>\n",
       "      <td>Centre-Forward</td>\n",
       "      <td>22</td>\n",
       "      <td>Newcastle</td>\n",
       "      <td>Premier League</td>\n",
       "      <td>Liverpool</td>\n",
       "      <td>Premier League</td>\n",
       "      <td>2010</td>\n",
       "      <td>2500000.0</td>\n",
       "      <td>41000000</td>\n",
       "      <td>41.0</td>\n",
       "      <td>2.5</td>\n",
       "    </tr>\n",
       "    <tr>\n",
       "      <th>2</th>\n",
       "      <td>David Villa</td>\n",
       "      <td>Centre-Forward</td>\n",
       "      <td>28</td>\n",
       "      <td>Valencia CF</td>\n",
       "      <td>LaLiga</td>\n",
       "      <td>FC Barcelona</td>\n",
       "      <td>LaLiga</td>\n",
       "      <td>2010</td>\n",
       "      <td>45000000.0</td>\n",
       "      <td>40000000</td>\n",
       "      <td>40.0</td>\n",
       "      <td>45.0</td>\n",
       "    </tr>\n",
       "    <tr>\n",
       "      <th>3</th>\n",
       "      <td>Edin Dzeko</td>\n",
       "      <td>Centre-Forward</td>\n",
       "      <td>24</td>\n",
       "      <td>VfL Wolfsburg</td>\n",
       "      <td>1.Bundesliga</td>\n",
       "      <td>Man City</td>\n",
       "      <td>Premier League</td>\n",
       "      <td>2010</td>\n",
       "      <td>30000000.0</td>\n",
       "      <td>37000000</td>\n",
       "      <td>37.0</td>\n",
       "      <td>30.0</td>\n",
       "    </tr>\n",
       "    <tr>\n",
       "      <th>4</th>\n",
       "      <td>Ángel Di María</td>\n",
       "      <td>Right Winger</td>\n",
       "      <td>22</td>\n",
       "      <td>Benfica</td>\n",
       "      <td>Liga NOS</td>\n",
       "      <td>Real Madrid</td>\n",
       "      <td>LaLiga</td>\n",
       "      <td>2010</td>\n",
       "      <td>9500000.0</td>\n",
       "      <td>33000000</td>\n",
       "      <td>33.0</td>\n",
       "      <td>9.5</td>\n",
       "    </tr>\n",
       "  </tbody>\n",
       "</table>\n",
       "</div>"
      ],
      "text/plain": [
       "              Name        Position  Age      Team_from     League_from  \\\n",
       "0  Fernando Torres  Centre-Forward   26      Liverpool  Premier League   \n",
       "1     Andy Carroll  Centre-Forward   22      Newcastle  Premier League   \n",
       "2      David Villa  Centre-Forward   28    Valencia CF          LaLiga   \n",
       "3       Edin Dzeko  Centre-Forward   24  VfL Wolfsburg    1.Bundesliga   \n",
       "4   Ángel Di María    Right Winger   22        Benfica        Liga NOS   \n",
       "\n",
       "        Team_to       League_to  Season  Market_value  Transfer_fee  \\\n",
       "0       Chelsea  Premier League    2010    50000000.0      58500000   \n",
       "1     Liverpool  Premier League    2010     2500000.0      41000000   \n",
       "2  FC Barcelona          LaLiga    2010    45000000.0      40000000   \n",
       "3      Man City  Premier League    2010    30000000.0      37000000   \n",
       "4   Real Madrid          LaLiga    2010     9500000.0      33000000   \n",
       "\n",
       "   Transfer_fee_million  Market_value_million  \n",
       "0                  58.5                  50.0  \n",
       "1                  41.0                   2.5  \n",
       "2                  40.0                  45.0  \n",
       "3                  37.0                  30.0  \n",
       "4                  33.0                   9.5  "
      ]
     },
     "execution_count": 351,
     "metadata": {},
     "output_type": "execute_result"
    }
   ],
   "source": [
    "transfers.head()"
   ]
  },
  {
   "cell_type": "raw",
   "id": "271b3ef5",
   "metadata": {},
   "source": []
  },
  {
   "cell_type": "markdown",
   "id": "33fd616c",
   "metadata": {},
   "source": [
    "## __Some visualisations of the data in plotted form__"
   ]
  },
  {
   "cell_type": "code",
   "execution_count": 235,
   "id": "343f6537",
   "metadata": {},
   "outputs": [
    {
     "data": {
      "text/plain": [
       "<AxesSubplot:xlabel='Position'>"
      ]
     },
     "execution_count": 235,
     "metadata": {},
     "output_type": "execute_result"
    },
    {
     "data": {
      "image/png": "[encoded data removed]",
      "text/plain": [
       "<Figure size 432x288 with 1 Axes>"
      ]
     },
     "metadata": {
      "needs_background": "light"
     },
     "output_type": "display_data"
    }
   ],
   "source": [
    "#Number of transferred players according to position\n",
    "transfers.value_counts('Position').plot(kind='bar')"
   ]
  },
  {
   "cell_type": "code",
   "execution_count": 236,
   "id": "98d0a8f2",
   "metadata": {
    "scrolled": true
   },
   "outputs": [
    {
     "data": {
      "text/plain": [
       "<AxesSubplot:ylabel='Frequency'>"
      ]
     },
     "execution_count": 236,
     "metadata": {},
     "output_type": "execute_result"
    },
    {
     "data": {
      "image/png": "[encoded data removed]",
      "text/plain": [
       "<Figure size 432x288 with 1 Axes>"
      ]
     },
     "metadata": {
      "needs_background": "light"
     },
     "output_type": "display_data"
    }
   ],
   "source": [
    "#Distribution of players according to age\n",
    "transfers[['Age']].plot(kind='hist',bins=10)"
   ]
  },
  {
   "cell_type": "code",
   "execution_count": 237,
   "id": "22e5cfa4",
   "metadata": {},
   "outputs": [
    {
     "data": {
      "text/plain": [
       "<AxesSubplot:ylabel='League_from,League_to'>"
      ]
     },
     "execution_count": 237,
     "metadata": {},
     "output_type": "execute_result"
    },
    {
     "data": {
      "image/png": "[encoded data removed]",
      "text/plain": [
       "<Figure size 432x288 with 1 Axes>"
      ]
     },
     "metadata": {
      "needs_background": "light"
     },
     "output_type": "display_data"
    }
   ],
   "source": [
    "#Bar chart plotting the amount of transfers between leagues\n",
    "transfers[['League_from','League_to']].value_counts().head(20).plot(kind= 'barh')"
   ]
  },
  {
   "cell_type": "code",
   "execution_count": 448,
   "id": "e8c92c0c",
   "metadata": {},
   "outputs": [
    {
     "data": {
      "text/plain": [
       "<AxesSubplot:ylabel='Team_from,Team_to'>"
      ]
     },
     "execution_count": 448,
     "metadata": {},
     "output_type": "execute_result"
    },
    {
     "data": {
      "image/png": "[encoded data removed]",
      "text/plain": [
       "<Figure size 432x288 with 1 Axes>"
      ]
     },
     "metadata": {
      "needs_background": "light"
     },
     "output_type": "display_data"
    }
   ],
   "source": [
    "#Bar chart plotting the amount of transfers between teams\n",
    "transfers[['Team_from','Team_to']].value_counts().head(20).plot(kind= 'barh')"
   ]
  },
  {
   "cell_type": "code",
   "execution_count": 491,
   "id": "eb0960b5",
   "metadata": {},
   "outputs": [
    {
     "data": {
      "text/html": [
       "<div>\n",
       "<style scoped>\n",
       "    .dataframe tbody tr th:only-of-type {\n",
       "        vertical-align: middle;\n",
       "    }\n",
       "\n",
       "    .dataframe tbody tr th {\n",
       "        vertical-align: top;\n",
       "    }\n",
       "\n",
       "    .dataframe thead th {\n",
       "        text-align: right;\n",
       "    }\n",
       "</style>\n",
       "<table border=\"1\" class=\"dataframe\">\n",
       "  <thead>\n",
       "    <tr style=\"text-align: right;\">\n",
       "      <th></th>\n",
       "      <th>Transfer_fee</th>\n",
       "    </tr>\n",
       "    <tr>\n",
       "      <th>Team_to</th>\n",
       "      <th></th>\n",
       "    </tr>\n",
       "  </thead>\n",
       "  <tbody>\n",
       "    <tr>\n",
       "      <th>Paris SG</th>\n",
       "      <td>222000000</td>\n",
       "    </tr>\n",
       "    <tr>\n",
       "      <th>FC Barcelona</th>\n",
       "      <td>125000000</td>\n",
       "    </tr>\n",
       "    <tr>\n",
       "      <th>Juventus</th>\n",
       "      <td>117000000</td>\n",
       "    </tr>\n",
       "    <tr>\n",
       "      <th>Man Utd</th>\n",
       "      <td>105000000</td>\n",
       "    </tr>\n",
       "    <tr>\n",
       "      <th>Real Madrid</th>\n",
       "      <td>101000000</td>\n",
       "    </tr>\n",
       "    <tr>\n",
       "      <th>Liverpool</th>\n",
       "      <td>78800000</td>\n",
       "    </tr>\n",
       "    <tr>\n",
       "      <th>Man City</th>\n",
       "      <td>76000000</td>\n",
       "    </tr>\n",
       "    <tr>\n",
       "      <th>Atlético Madrid</th>\n",
       "      <td>70000000</td>\n",
       "    </tr>\n",
       "    <tr>\n",
       "      <th>Chelsea</th>\n",
       "      <td>66000000</td>\n",
       "    </tr>\n",
       "    <tr>\n",
       "      <th>Arsenal</th>\n",
       "      <td>63750000</td>\n",
       "    </tr>\n",
       "  </tbody>\n",
       "</table>\n",
       "</div>"
      ],
      "text/plain": [
       "                 Transfer_fee\n",
       "Team_to                      \n",
       "Paris SG            222000000\n",
       "FC Barcelona        125000000\n",
       "Juventus            117000000\n",
       "Man Utd             105000000\n",
       "Real Madrid         101000000\n",
       "Liverpool            78800000\n",
       "Man City             76000000\n",
       "Atlético Madrid      70000000\n",
       "Chelsea              66000000\n",
       "Arsenal              63750000"
      ]
     },
     "execution_count": 491,
     "metadata": {},
     "output_type": "execute_result"
    }
   ],
   "source": [
    "#Highest fee paid by teams arranged by descending transfer fee\n",
    "transfers[['Team_to','Transfer_fee']].groupby('Team_to').max().sort_values('Transfer_fee',ascending=False).head(10)#.plot(kind='line')"
   ]
  },
  {
   "cell_type": "code",
   "execution_count": 14,
   "id": "6a484513",
   "metadata": {},
   "outputs": [
    {
     "data": {
      "text/html": [
       "<div>\n",
       "<style scoped>\n",
       "    .dataframe tbody tr th:only-of-type {\n",
       "        vertical-align: middle;\n",
       "    }\n",
       "\n",
       "    .dataframe tbody tr th {\n",
       "        vertical-align: top;\n",
       "    }\n",
       "\n",
       "    .dataframe thead th {\n",
       "        text-align: right;\n",
       "    }\n",
       "</style>\n",
       "<table border=\"1\" class=\"dataframe\">\n",
       "  <thead>\n",
       "    <tr style=\"text-align: right;\">\n",
       "      <th></th>\n",
       "      <th>Name</th>\n",
       "      <th>Position</th>\n",
       "      <th>Age</th>\n",
       "      <th>Team_from</th>\n",
       "      <th>League_from</th>\n",
       "      <th>Team_to</th>\n",
       "      <th>League_to</th>\n",
       "      <th>Season</th>\n",
       "      <th>Market_value</th>\n",
       "      <th>Transfer_fee</th>\n",
       "    </tr>\n",
       "  </thead>\n",
       "  <tbody>\n",
       "  </tbody>\n",
       "</table>\n",
       "</div>"
      ],
      "text/plain": [
       "Empty DataFrame\n",
       "Columns: [Name, Position, Age, Team_from, League_from, Team_to, League_to, Season, Market_value, Transfer_fee]\n",
       "Index: []"
      ]
     },
     "execution_count": 14,
     "metadata": {},
     "output_type": "execute_result"
    }
   ],
   "source": [
    "#Unwanted data\n",
    "f=transfers.loc[transfers[\"Team_to\"] == 'Pyramids FC']\n",
    "f"
   ]
  },
  {
   "cell_type": "code",
   "execution_count": 13,
   "id": "d15e5cd2",
   "metadata": {},
   "outputs": [
    {
     "ename": "KeyError",
     "evalue": "'[2104 2188 2191] not found in axis'",
     "output_type": "error",
     "traceback": [
      "\u001b[1;31m---------------------------------------------------------------------------\u001b[0m",
      "\u001b[1;31mKeyError\u001b[0m                                  Traceback (most recent call last)",
      "\u001b[1;32m<ipython-input-13-0209b33f44c3>\u001b[0m in \u001b[0;36m<module>\u001b[1;34m\u001b[0m\n\u001b[0;32m      1\u001b[0m \u001b[1;31m#dropping unwanted data\u001b[0m\u001b[1;33m\u001b[0m\u001b[1;33m\u001b[0m\u001b[1;33m\u001b[0m\u001b[0m\n\u001b[1;32m----> 2\u001b[1;33m \u001b[0mtransfers\u001b[0m\u001b[1;33m.\u001b[0m\u001b[0mdrop\u001b[0m\u001b[1;33m(\u001b[0m\u001b[1;33m[\u001b[0m\u001b[1;36m2104\u001b[0m\u001b[1;33m,\u001b[0m\u001b[1;36m2188\u001b[0m\u001b[1;33m,\u001b[0m\u001b[1;36m2191\u001b[0m\u001b[1;33m]\u001b[0m\u001b[1;33m,\u001b[0m \u001b[0minplace\u001b[0m \u001b[1;33m=\u001b[0m \u001b[1;32mTrue\u001b[0m\u001b[1;33m)\u001b[0m\u001b[1;33m\u001b[0m\u001b[1;33m\u001b[0m\u001b[0m\n\u001b[0m\u001b[0;32m      3\u001b[0m \u001b[0mf\u001b[0m\u001b[1;33m\u001b[0m\u001b[1;33m\u001b[0m\u001b[0m\n",
      "\u001b[1;32m~\\anaconda3\\lib\\site-packages\\pandas\\core\\frame.py\u001b[0m in \u001b[0;36mdrop\u001b[1;34m(self, labels, axis, index, columns, level, inplace, errors)\u001b[0m\n\u001b[0;32m   4306\u001b[0m                 \u001b[0mweight\u001b[0m  \u001b[1;36m1.0\u001b[0m     \u001b[1;36m0.8\u001b[0m\u001b[1;33m\u001b[0m\u001b[1;33m\u001b[0m\u001b[0m\n\u001b[0;32m   4307\u001b[0m         \"\"\"\n\u001b[1;32m-> 4308\u001b[1;33m         return super().drop(\n\u001b[0m\u001b[0;32m   4309\u001b[0m             \u001b[0mlabels\u001b[0m\u001b[1;33m=\u001b[0m\u001b[0mlabels\u001b[0m\u001b[1;33m,\u001b[0m\u001b[1;33m\u001b[0m\u001b[1;33m\u001b[0m\u001b[0m\n\u001b[0;32m   4310\u001b[0m             \u001b[0maxis\u001b[0m\u001b[1;33m=\u001b[0m\u001b[0maxis\u001b[0m\u001b[1;33m,\u001b[0m\u001b[1;33m\u001b[0m\u001b[1;33m\u001b[0m\u001b[0m\n",
      "\u001b[1;32m~\\anaconda3\\lib\\site-packages\\pandas\\core\\generic.py\u001b[0m in \u001b[0;36mdrop\u001b[1;34m(self, labels, axis, index, columns, level, inplace, errors)\u001b[0m\n\u001b[0;32m   4151\u001b[0m         \u001b[1;32mfor\u001b[0m \u001b[0maxis\u001b[0m\u001b[1;33m,\u001b[0m \u001b[0mlabels\u001b[0m \u001b[1;32min\u001b[0m \u001b[0maxes\u001b[0m\u001b[1;33m.\u001b[0m\u001b[0mitems\u001b[0m\u001b[1;33m(\u001b[0m\u001b[1;33m)\u001b[0m\u001b[1;33m:\u001b[0m\u001b[1;33m\u001b[0m\u001b[1;33m\u001b[0m\u001b[0m\n\u001b[0;32m   4152\u001b[0m             \u001b[1;32mif\u001b[0m \u001b[0mlabels\u001b[0m \u001b[1;32mis\u001b[0m \u001b[1;32mnot\u001b[0m \u001b[1;32mNone\u001b[0m\u001b[1;33m:\u001b[0m\u001b[1;33m\u001b[0m\u001b[1;33m\u001b[0m\u001b[0m\n\u001b[1;32m-> 4153\u001b[1;33m                 \u001b[0mobj\u001b[0m \u001b[1;33m=\u001b[0m \u001b[0mobj\u001b[0m\u001b[1;33m.\u001b[0m\u001b[0m_drop_axis\u001b[0m\u001b[1;33m(\u001b[0m\u001b[0mlabels\u001b[0m\u001b[1;33m,\u001b[0m \u001b[0maxis\u001b[0m\u001b[1;33m,\u001b[0m \u001b[0mlevel\u001b[0m\u001b[1;33m=\u001b[0m\u001b[0mlevel\u001b[0m\u001b[1;33m,\u001b[0m \u001b[0merrors\u001b[0m\u001b[1;33m=\u001b[0m\u001b[0merrors\u001b[0m\u001b[1;33m)\u001b[0m\u001b[1;33m\u001b[0m\u001b[1;33m\u001b[0m\u001b[0m\n\u001b[0m\u001b[0;32m   4154\u001b[0m \u001b[1;33m\u001b[0m\u001b[0m\n\u001b[0;32m   4155\u001b[0m         \u001b[1;32mif\u001b[0m \u001b[0minplace\u001b[0m\u001b[1;33m:\u001b[0m\u001b[1;33m\u001b[0m\u001b[1;33m\u001b[0m\u001b[0m\n",
      "\u001b[1;32m~\\anaconda3\\lib\\site-packages\\pandas\\core\\generic.py\u001b[0m in \u001b[0;36m_drop_axis\u001b[1;34m(self, labels, axis, level, errors)\u001b[0m\n\u001b[0;32m   4186\u001b[0m                 \u001b[0mnew_axis\u001b[0m \u001b[1;33m=\u001b[0m \u001b[0maxis\u001b[0m\u001b[1;33m.\u001b[0m\u001b[0mdrop\u001b[0m\u001b[1;33m(\u001b[0m\u001b[0mlabels\u001b[0m\u001b[1;33m,\u001b[0m \u001b[0mlevel\u001b[0m\u001b[1;33m=\u001b[0m\u001b[0mlevel\u001b[0m\u001b[1;33m,\u001b[0m \u001b[0merrors\u001b[0m\u001b[1;33m=\u001b[0m\u001b[0merrors\u001b[0m\u001b[1;33m)\u001b[0m\u001b[1;33m\u001b[0m\u001b[1;33m\u001b[0m\u001b[0m\n\u001b[0;32m   4187\u001b[0m             \u001b[1;32melse\u001b[0m\u001b[1;33m:\u001b[0m\u001b[1;33m\u001b[0m\u001b[1;33m\u001b[0m\u001b[0m\n\u001b[1;32m-> 4188\u001b[1;33m                 \u001b[0mnew_axis\u001b[0m \u001b[1;33m=\u001b[0m \u001b[0maxis\u001b[0m\u001b[1;33m.\u001b[0m\u001b[0mdrop\u001b[0m\u001b[1;33m(\u001b[0m\u001b[0mlabels\u001b[0m\u001b[1;33m,\u001b[0m \u001b[0merrors\u001b[0m\u001b[1;33m=\u001b[0m\u001b[0merrors\u001b[0m\u001b[1;33m)\u001b[0m\u001b[1;33m\u001b[0m\u001b[1;33m\u001b[0m\u001b[0m\n\u001b[0m\u001b[0;32m   4189\u001b[0m             \u001b[0mresult\u001b[0m \u001b[1;33m=\u001b[0m \u001b[0mself\u001b[0m\u001b[1;33m.\u001b[0m\u001b[0mreindex\u001b[0m\u001b[1;33m(\u001b[0m\u001b[1;33m**\u001b[0m\u001b[1;33m{\u001b[0m\u001b[0maxis_name\u001b[0m\u001b[1;33m:\u001b[0m \u001b[0mnew_axis\u001b[0m\u001b[1;33m}\u001b[0m\u001b[1;33m)\u001b[0m\u001b[1;33m\u001b[0m\u001b[1;33m\u001b[0m\u001b[0m\n\u001b[0;32m   4190\u001b[0m \u001b[1;33m\u001b[0m\u001b[0m\n",
      "\u001b[1;32m~\\anaconda3\\lib\\site-packages\\pandas\\core\\indexes\\base.py\u001b[0m in \u001b[0;36mdrop\u001b[1;34m(self, labels, errors)\u001b[0m\n\u001b[0;32m   5589\u001b[0m         \u001b[1;32mif\u001b[0m \u001b[0mmask\u001b[0m\u001b[1;33m.\u001b[0m\u001b[0many\u001b[0m\u001b[1;33m(\u001b[0m\u001b[1;33m)\u001b[0m\u001b[1;33m:\u001b[0m\u001b[1;33m\u001b[0m\u001b[1;33m\u001b[0m\u001b[0m\n\u001b[0;32m   5590\u001b[0m             \u001b[1;32mif\u001b[0m \u001b[0merrors\u001b[0m \u001b[1;33m!=\u001b[0m \u001b[1;34m\"ignore\"\u001b[0m\u001b[1;33m:\u001b[0m\u001b[1;33m\u001b[0m\u001b[1;33m\u001b[0m\u001b[0m\n\u001b[1;32m-> 5591\u001b[1;33m                 \u001b[1;32mraise\u001b[0m \u001b[0mKeyError\u001b[0m\u001b[1;33m(\u001b[0m\u001b[1;34mf\"{labels[mask]} not found in axis\"\u001b[0m\u001b[1;33m)\u001b[0m\u001b[1;33m\u001b[0m\u001b[1;33m\u001b[0m\u001b[0m\n\u001b[0m\u001b[0;32m   5592\u001b[0m             \u001b[0mindexer\u001b[0m \u001b[1;33m=\u001b[0m \u001b[0mindexer\u001b[0m\u001b[1;33m[\u001b[0m\u001b[1;33m~\u001b[0m\u001b[0mmask\u001b[0m\u001b[1;33m]\u001b[0m\u001b[1;33m\u001b[0m\u001b[1;33m\u001b[0m\u001b[0m\n\u001b[0;32m   5593\u001b[0m         \u001b[1;32mreturn\u001b[0m \u001b[0mself\u001b[0m\u001b[1;33m.\u001b[0m\u001b[0mdelete\u001b[0m\u001b[1;33m(\u001b[0m\u001b[0mindexer\u001b[0m\u001b[1;33m)\u001b[0m\u001b[1;33m\u001b[0m\u001b[1;33m\u001b[0m\u001b[0m\n",
      "\u001b[1;31mKeyError\u001b[0m: '[2104 2188 2191] not found in axis'"
     ]
    }
   ],
   "source": [
    "#dropping unwanted data\n",
    "transfers.drop([2104,2188,2191], inplace = True)"
   ]
  },
  {
   "cell_type": "code",
   "execution_count": 355,
   "id": "b1a51ef4",
   "metadata": {},
   "outputs": [
    {
     "data": {
      "text/plain": [
       "<AxesSubplot:xlabel='Season', ylabel='Transfer_fee_million'>"
      ]
     },
     "execution_count": 355,
     "metadata": {},
     "output_type": "execute_result"
    },
    {
     "data": {
      "image/png": "[encoded data removed]",
      "text/plain": [
       "<Figure size 432x288 with 1 Axes>"
      ]
     },
     "metadata": {
      "needs_background": "light"
     },
     "output_type": "display_data"
    }
   ],
   "source": [
    "#Scatter plot of transfer fees paid each season\n",
    "transfers.plot(y='Transfer_fee_million',x='Season',kind='scatter')"
   ]
  },
  {
   "cell_type": "code",
   "execution_count": 485,
   "id": "27b17dd8",
   "metadata": {},
   "outputs": [
    {
     "data": {
      "text/plain": [
       "Text(0, 0.5, 'Transfer Fee (million Euros) ')"
      ]
     },
     "execution_count": 485,
     "metadata": {},
     "output_type": "execute_result"
    },
    {
     "data": {
      "image/png": "[encoded data removed]",
      "text/plain": [
       "<Figure size 432x288 with 1 Axes>"
      ]
     },
     "metadata": {
      "needs_background": "light"
     },
     "output_type": "display_data"
    }
   ],
   "source": [
    "#Line graph of the highest transer fee for each season\n",
    "transfers.groupby('Season')['Transfer_fee_million'].max().plot(kind='line')\n",
    "plt.ylabel('Transfer Fee (million Euros) ')"
   ]
  },
  {
   "cell_type": "markdown",
   "id": "9d18d267",
   "metadata": {},
   "source": [
    "# __Getting user data for data visualisation and plotting__"
   ]
  },
  {
   "cell_type": "code",
   "execution_count": 465,
   "id": "934c8109",
   "metadata": {},
   "outputs": [
    {
     "name": "stdout",
     "output_type": "stream",
     "text": [
      "Enter a number from the list\n",
      "1:League from\n",
      "2:League to\n",
      "3:Team from\n",
      "4:Team to\n",
      "0\n",
      "Invalid number\n"
     ]
    }
   ],
   "source": [
    "#Function to display various analysed values of data set such as mean and max values\n",
    "def data (league_team, name):\n",
    "    values = transfers.loc[transfers[league_team] == name]\n",
    "    avg = values['Transfer_fee_million'].sum()/len(transfers.loc[transfers[league_team] == name])\n",
    "    max_value = values['Transfer_fee_million'].max()\n",
    "    min_value = values['Transfer_fee_million'].min()\n",
    "    median_value = values['Transfer_fee_million'].median()\n",
    "    print (\"These are the values for\", name)\n",
    "    print (\"These are the players transferred arranged by descending transfer value:\")\n",
    "    print (transfers.loc[transfers[league_team] == name].sort_values('Transfer_fee',ascending = False)[\"Name\"].unique())\n",
    "    print ('The number of players transfered is: ', transfers.loc[transfers[league_team] == name].sort_values('Transfer_fee',ascending = False)[\"Name\"].nunique())\n",
    "    print (\"The average transfer fee per player is:\", avg ,\"Million Euros\")\n",
    "    print (\"The highest transfer fee paid is:\",max_value,'Million Euros' )\n",
    "    print (\"The lowest transfer fee paid is:\",min_value,'Million Euros' )\n",
    "    print ('The median transfer fee paid is:', median_value,'Million Euros')\n",
    "\n",
    "#Getting user input, using a loop to check for unwanted inputs, and calling the function\n",
    "user_in = int(input(\"Enter a number from the list\\n1:League from\\n2:League to\\n3:Team from\\n4:Team to\\n\"))\n",
    "\n",
    "if user_in == 1:\n",
    "    league_team = 'League_from'\n",
    "    name = input('Enter the name of the league')\n",
    "    data(league_team,name)\n",
    "elif user_in == 2:\n",
    "    league_team = 'League_to'\n",
    "    name = input('Enter the name of the league')\n",
    "    data(league_team,name)\n",
    "elif user_in == 3:\n",
    "    league_team = 'Team_from'\n",
    "    name = input('Enter the name of the team')\n",
    "    data(league_team,name)\n",
    "elif user_in == 4:\n",
    "    league_team = 'Team_to'\n",
    "    name = input('Enter the name of the team')\n",
    "    data(league_team,name)\n",
    "else:\n",
    "    print(\"Invalid number\")\n"
   ]
  },
  {
   "cell_type": "code",
   "execution_count": 483,
   "id": "eb4b136b",
   "metadata": {
    "scrolled": false
   },
   "outputs": [
    {
     "name": "stdout",
     "output_type": "stream",
     "text": [
      "Please enter a column for x-axis: Season\n",
      "Please enter a column for y-axis: Transfer_fee\n",
      "Please enter a plot type (line, bar, hist, or scatter): line\n",
      "Choose from one of these numbers\n",
      "0: exit\n",
      "1: max values\n",
      "2: mean values\n",
      "3: min values:\n",
      " 0\n",
      "Invalid number\n",
      "Thank you for participating!!\n"
     ]
    }
   ],
   "source": [
    "#Function to plot graphs from dataset. Getting kwargs from user to choose which data to plot\n",
    "def plotting (x_plot,y_plot,plot_type):\n",
    "        if plot_type == 'scatter':\n",
    "            transfers.plot(y=y_axis,x=x_axis,kind=plot_type)\n",
    "        elif plot_type == 'bar' or plot_type == 'barh':\n",
    "            transfers[[x_plot,y_plot]].value_counts().head(20).plot(kind= plot_type)\n",
    "            plt.xlabel(x_plot)\n",
    "            plt.ylabel(y_plot)\n",
    "        elif plot_type == 'line':\n",
    "            num_in= int(input(\"Choose from one of these numbers\\n0: exit\\n1: max values\\n2: mean values\\n3: min values:\\n \"))\n",
    "            if num_in >= 1 and num_in <=3:\n",
    "                while num_in!=0:\n",
    "                    if num_in == 1:\n",
    "                        transfers.groupby(x_plot)[y_plot].max().plot(kind=plot_type)\n",
    "                        plt.xlabel(x_plot)\n",
    "                        plt.ylabel(y_plot)\n",
    "                        num_in = 0 \n",
    "                    elif num_in == 2:\n",
    "                        transfers.groupby(x_plot)[y_plot].mean().plot(kind=plot_type)\n",
    "                        plt.xlabel(x_plot)\n",
    "                        plt.ylabel(y_plot)\n",
    "                        num_in = 0\n",
    "                    elif num_in == 3:\n",
    "                        transfers.groupby(x_plot)[y_plot].min().plot(kind=plot_type)\n",
    "                        plt.xlabel(x_plot)\n",
    "                        plt.ylabel(y_plot)\n",
    "                        num_in = 0\n",
    "                    else:\n",
    "                        num_in = input(\"Enter 1 to continue or 0 to exit: \") \n",
    "            else:\n",
    "                print(\"Invalid number\")\n",
    "        else:\n",
    "            print(\"Invalid plot type\")\n",
    "\n",
    "        print(\"Thank you for participating!!\")\n",
    "\n",
    "#Getting user inputs and calling functions        \n",
    "x_axis = input(\"Please enter a column for x-axis: \")\n",
    "y_axis = input (\"Please enter a column for y-axis: \")\n",
    "plot_type = input(\"Please enter a plot type (line, bar, hist, or scatter): \")    \n",
    "plotting(x_axis,y_axis,plot_type) \n",
    "            \n",
    "\n"
   ]
  },
  {
   "cell_type": "code",
   "execution_count": null,
   "id": "60d519c4",
   "metadata": {},
   "outputs": [],
   "source": []
  },
  {
   "cell_type": "code",
   "execution_count": null,
   "id": "113821fb",
   "metadata": {},
   "outputs": [],
   "source": []
  },
  {
   "cell_type": "code",
   "execution_count": null,
   "id": "487e521d",
   "metadata": {},
   "outputs": [],
   "source": []
  },
  {
   "cell_type": "code",
   "execution_count": null,
   "id": "bfdae647",
   "metadata": {},
   "outputs": [],
   "source": []
  },
  {
   "cell_type": "code",
   "execution_count": null,
   "id": "15852460",
   "metadata": {},
   "outputs": [],
   "source": []
  },
  {
   "cell_type": "code",
   "execution_count": null,
   "id": "e9aa97b7",
   "metadata": {},
   "outputs": [],
   "source": []
  },
  {
   "cell_type": "code",
   "execution_count": null,
   "id": "691db04f",
   "metadata": {},
   "outputs": [],
   "source": []
  },
  {
   "cell_type": "code",
   "execution_count": null,
   "id": "b68d1ded",
   "metadata": {},
   "outputs": [],
   "source": []
  },
  {
   "cell_type": "code",
   "execution_count": null,
   "id": "43ad877a",
   "metadata": {},
   "outputs": [],
   "source": []
  },
  {
   "cell_type": "code",
   "execution_count": null,
   "id": "8f9f0475",
   "metadata": {},
   "outputs": [],
   "source": []
  },
  {
   "cell_type": "code",
   "execution_count": null,
   "id": "27f69e7e",
   "metadata": {},
   "outputs": [],
   "source": []
  },
  {
   "cell_type": "code",
   "execution_count": null,
   "id": "5a791fa7",
   "metadata": {},
   "outputs": [],
   "source": [
    "num = 1\n",
    "while num !=0:\n",
    "    num_in= input(\"Choose from one of these numbers\\n0: exit\\n1: max values\\n2: mean values\\n3: min values: \")\n",
    "        #while num !=0\n",
    "    if num_in == '1':\n",
    "        #transfers.groupby(x_plot)[y_plot].max().plot(kind=plot_type)\n",
    "        print(\"oK\")\n",
    "        num = 0 \n",
    "    elif num_in == '2':\n",
    "        #transfers.groupby(x_plot)[y_plot].mean().plot(kind=plot_type)\n",
    "        print(\"OK2\")\n",
    "        num = 0\n",
    "    elif num_in == '3':\n",
    "        print(\"OK3\")\n",
    "        #transfers.groupby(x_plot)[y_plot].min().plot(kind=plot_type)\n",
    "        num = 0\n",
    "    else:\n",
    "        print(\"Please enter a valid number\")\n"
   ]
  },
  {
   "cell_type": "code",
   "execution_count": null,
   "id": "3c20bf6a",
   "metadata": {},
   "outputs": [],
   "source": []
  },
  {
   "cell_type": "code",
   "execution_count": null,
   "id": "e5b93aa8",
   "metadata": {},
   "outputs": [],
   "source": []
  }
 ],
 "metadata": {
  "kernelspec": {
   "display_name": "Python 3",
   "language": "python",
   "name": "python3"
  },
  "language_info": {
   "codemirror_mode": {
    "name": "ipython",
    "version": 3
   },
   "file_extension": ".py",
   "mimetype": "text/x-python",
   "name": "python",
   "nbconvert_exporter": "python",
   "pygments_lexer": "ipython3",
   "version": "3.8.8"
  }
 },
 "nbformat": 4,
 "nbformat_minor": 5
}
